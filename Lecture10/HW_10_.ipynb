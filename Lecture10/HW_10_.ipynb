{
  "nbformat": 4,
  "nbformat_minor": 0,
  "metadata": {
    "kernelspec": {
      "display_name": "Python 3",
      "language": "python",
      "name": "python3"
    },
    "language_info": {
      "codemirror_mode": {
        "name": "ipython",
        "version": 3
      },
      "file_extension": ".py",
      "mimetype": "text/x-python",
      "name": "python",
      "nbconvert_exporter": "python",
      "pygments_lexer": "ipython3",
      "version": "3.6.7"
    },
    "colab": {
      "provenance": []
    }
  },
  "cells": [
    {
      "cell_type": "markdown",
      "metadata": {
        "id": "HC0tDLjdsUhM"
      },
      "source": [
        "# Homework Assignment 10"
      ]
    },
    {
      "cell_type": "markdown",
      "metadata": {
        "id": "tRGj7ouGsUhN"
      },
      "source": [
        "**Question 1:** Use PySpark and the [Wine Reviews dataset](https://www.kaggle.com/zynicide/wine-reviews) to:\n",
        "- Explore  the datasets using Spark DataFrame by creating **3 different data visualizations, including map visualization** (30pt)\n",
        "- Create a regression model that can predict the Wine Review's points value and evaluate the model(20pt)"
      ]
    },
    {
      "cell_type": "code",
      "metadata": {
        "id": "UYBc2s3WsUhO"
      },
      "source": [],
      "execution_count": null,
      "outputs": []
    },
    {
      "cell_type": "markdown",
      "metadata": {
        "id": "BN9aqzj6sUhS"
      },
      "source": [
        "**Question 2:** Use PySpark and the [Used Car Listings dataset](https://www.kaggle.com/jpayne/852k-used-car-listings) to:\n",
        "- Explore  the datasets using Spamrk DataFrame by creating **3 different data visualizations, including  map visualization** (30pt)\n",
        "- Create a regression model that can predict a car's listing price and evaluate the model (20pt)\n",
        "\n"
      ]
    },
    {
      "cell_type": "code",
      "metadata": {
        "id": "QUuT9KsCsUhT"
      },
      "source": [],
      "execution_count": null,
      "outputs": []
    }
  ]
}